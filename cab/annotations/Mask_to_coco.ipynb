{
 "cells": [
  {
   "cell_type": "code",
   "execution_count": 10,
   "metadata": {},
   "outputs": [],
   "source": [
    "import datetime\n",
    "import json\n",
    "import os\n",
    "import re\n",
    "import fnmatch\n",
    "from PIL import Image\n",
    "import numpy as np\n",
    "from pycococreatortools import pycococreatortools\n",
    "from tqdm import tqdm"
   ]
  },
  {
   "cell_type": "code",
   "execution_count": 11,
   "metadata": {},
   "outputs": [],
   "source": [
    "ROOT_DIR = '/mnt/data2/datasets/detr/temp/200/'\n",
    "IMAGE_DIR = os.path.join(ROOT_DIR, \"train2017\")\n",
    "ANNOTATION_DIR = os.path.join(ROOT_DIR, \"train_masks\")"
   ]
  },
  {
   "cell_type": "code",
   "execution_count": 13,
   "metadata": {},
   "outputs": [],
   "source": [
    "INFO = {\n",
    "    \"description\": \"Door_object_panoptic_segmentation\",\n",
    "    \"url\": \"cab.se\",\n",
    "    \"version\": \"0.1.0\",\n",
    "    \"year\": 2020,\n",
    "    \"contributor\": \"Cab\",\n",
    "    \"date_created\": datetime.datetime.utcnow().isoformat(' ')\n",
    "}\n",
    "LICENSES = [\n",
    "    {\n",
    "        \"id\": 1,\n",
    "        \"name\": \"Fake License\",\n",
    "        \"url\": \"http://creativefakeys.org/licenses/by-nc-sa/2.0/\"\n",
    "    }\n",
    "]\n",
    "CATEGORIES = [\n",
    "    {\n",
    "        'id': 0,\n",
    "        'name': 'front_door',\n",
    "        'supercategory': 'door',\n",
    "    },\n",
    "    {\n",
    "        'id': 1,\n",
    "        'name': 'rear_door',\n",
    "        'supercategory': 'door',\n",
    "    },\n",
    "    {\n",
    "        'id': 2,\n",
    "        'name': 'not_door',\n",
    "        'supercategory': 'background',\n",
    "    }\n",
    "]"
   ]
  },
  {
   "cell_type": "code",
   "execution_count": 16,
   "metadata": {},
   "outputs": [],
   "source": [
    "def filter_for_png(root, files):\n",
    "    file_types = ['*.png', '*.jpg', '*.jpeg']\n",
    "    file_types = r'|'.join([fnmatch.translate(x) for x in file_types])\n",
    "    files = [os.path.join(root, f) for f in files]\n",
    "    files = [f for f in files if re.match(file_types, f)]\n",
    "    \n",
    "    return files\n",
    "\n",
    "def filter_for_similar(root, files, image_filename):\n",
    "    file_types = ['*.png', '*.jpg', '*.jpeg']\n",
    "    file_types = r'|'.join([fnmatch.translate(x) for x in file_types])\n",
    "    basename_no_extension = os.path.splitext(os.path.basename(image_filename))[0]\n",
    "    file_name_prefix = basename_no_extension + '.*'\n",
    "    files = [os.path.join(root, f) for f in files]\n",
    "    files = [f for f in files if re.match(file_types, f)]\n",
    "    files = [f for f in files if re.match(file_name_prefix, os.path.splitext(os.path.basename(f))[0])]\n",
    "\n",
    "    return files\n",
    "\n",
    "def run():\n",
    "\n",
    "    coco_output = {\n",
    "        \"info\": INFO,\n",
    "        \"licenses\": LICENSES,\n",
    "        \"categories\": CATEGORIES,\n",
    "        \"images\": [],\n",
    "        \"annotations\": []\n",
    "    }\n",
    "\n",
    "    image_id = 1\n",
    "    segmentation_id = 1\n",
    "    \n",
    "    # filter for jpeg images\n",
    "    for root, _, files in os.walk(IMAGE_DIR):\n",
    "        image_files = filter_for_png(root, files)\n",
    "\n",
    "        # go through each image\n",
    "        for image_filename in tqdm(image_files):\n",
    "            image = Image.open(image_filename)\n",
    "            image_info = pycococreatortools.create_image_info(\n",
    "                image_id, os.path.basename(image_filename), image.size)\n",
    "            coco_output[\"images\"].append(image_info)\n",
    "\n",
    "            # filter for associated png annotations\n",
    "            for root, _, files in os.walk(ANNOTATION_DIR):\n",
    "                annotation_files = filter_for_similar(root, files, image_filename)\n",
    "\n",
    "                # go through each associated annotation\n",
    "                for annotation_filename in annotation_files:\n",
    "                    class_id = [x['id'] for x in CATEGORIES if x['name'] in annotation_filename][0]\n",
    "\n",
    "                    category_info = {'id': class_id, 'is_crowd': 'crowd' in image_filename}\n",
    "                    binary_mask = np.asarray(Image.open(annotation_filename)\n",
    "                        .convert('1')).astype(np.uint8)\n",
    "                    \n",
    "                    annotation_info = pycococreatortools.create_annotation_info(\n",
    "                        segmentation_id, image_id, category_info, binary_mask,\n",
    "                        image.size, tolerance=2)\n",
    "\n",
    "                    if annotation_info is not None:\n",
    "                        coco_output[\"annotations\"].append(annotation_info)\n",
    "\n",
    "                    segmentation_id = segmentation_id + 1\n",
    "\n",
    "            image_id = image_id + 1\n",
    "\n",
    "    with open('{}/custom_train.json'.format(ROOT_DIR), 'w') as output_json_file:\n",
    "        json.dump(coco_output, output_json_file)\n"
   ]
  },
  {
   "cell_type": "code",
   "execution_count": 17,
   "metadata": {
    "scrolled": true
   },
   "outputs": [
    {
     "name": "stderr",
     "output_type": "stream",
     "text": [
      "100%|██████████| 200/200 [00:16<00:00, 12.33it/s]\n"
     ]
    }
   ],
   "source": [
    "run()"
   ]
  },
  {
   "cell_type": "code",
   "execution_count": null,
   "metadata": {},
   "outputs": [],
   "source": []
  },
  {
   "cell_type": "code",
   "execution_count": null,
   "metadata": {},
   "outputs": [],
   "source": []
  }
 ],
 "metadata": {
  "kernelspec": {
   "display_name": "Python 3",
   "language": "python",
   "name": "python3"
  },
  "language_info": {
   "codemirror_mode": {
    "name": "ipython",
    "version": 3
   },
   "file_extension": ".py",
   "mimetype": "text/x-python",
   "name": "python",
   "nbconvert_exporter": "python",
   "pygments_lexer": "ipython3",
   "version": "3.8.3"
  }
 },
 "nbformat": 4,
 "nbformat_minor": 4
}
