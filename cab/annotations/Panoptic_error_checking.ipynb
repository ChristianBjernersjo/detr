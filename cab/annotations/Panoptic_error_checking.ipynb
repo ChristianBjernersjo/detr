{
 "cells": [
  {
   "cell_type": "code",
   "execution_count": 47,
   "metadata": {},
   "outputs": [],
   "source": [
    "import cv2\n",
    "import numpy as np\n",
    "import os\n",
    "import fnmatch\n",
    "import re\n",
    "import numpy as np\n",
    "from shutil import copyfile\n",
    "from tqdm import tqdm\n",
    "import pandas as pd\n",
    "from pathlib import Path\n",
    "import random "
   ]
  },
  {
   "cell_type": "code",
   "execution_count": 42,
   "metadata": {},
   "outputs": [
    {
     "data": {
      "text/plain": [
       "info           {'description': 'COCO 2018 Panoptic Dataset', ...\n",
       "licenses       [{'url': 'http://creativecommons.org/licenses/...\n",
       "images         [{'license': 4, 'file_name': '000000397133.jpg...\n",
       "annotations    [{'segments_info': [{'id': 3226956, 'category_...\n",
       "categories     [{'supercategory': 'person', 'isthing': 1, 'id...\n",
       "dtype: object"
      ]
     },
     "execution_count": 42,
     "metadata": {},
     "output_type": "execute_result"
    }
   ],
   "source": [
    "COCO_ANNOTATIONS = '/mnt/data2/datasets/coco_panoptic/annotations/panoptic_val2017.json'\n",
    "COCO_IMAGES = '/mnt/data2/datasets/coco_panoptic/val2017'\n",
    "\n",
    "\n",
    "coco = pd.read_json(COCO_ANNOTATIONS, typ='series')\n",
    "coco.head()"
   ]
  },
  {
   "cell_type": "code",
   "execution_count": 44,
   "metadata": {},
   "outputs": [
    {
     "data": {
      "text/plain": [
       "{'segments_info': [{'id': 6516604,\n",
       "   'category_id': 1,\n",
       "   'iscrowd': 0,\n",
       "   'bbox': [212, 127, 192, 258],\n",
       "   'area': 16892},\n",
       "  {'id': 11582145,\n",
       "   'category_id': 42,\n",
       "   'iscrowd': 0,\n",
       "   'bbox': [258, 336, 282, 87],\n",
       "   'area': 6475}],\n",
       " 'file_name': '000000004765.png',\n",
       " 'image_id': 4765}"
      ]
     },
     "execution_count": 44,
     "metadata": {},
     "output_type": "execute_result"
    }
   ],
   "source": [
    "coco['annotations'][45]"
   ]
  },
  {
   "cell_type": "code",
   "execution_count": 33,
   "metadata": {},
   "outputs": [
    {
     "data": {
      "text/plain": [
       "info           {'description': 'Door_object_panoptic_segmenta...\n",
       "licenses       [{'id': 1, 'name': 'Fake License', 'url': 'htt...\n",
       "categories     [{'id': 0, 'name': 'front_door', 'supercategor...\n",
       "images         [{'id': 1, 'file_name': '072.jpg', 'width': 12...\n",
       "annotations    [{'segments_info': [{'id': 248, 'category_id':...\n",
       "dtype: object"
      ]
     },
     "execution_count": 33,
     "metadata": {},
     "output_type": "execute_result"
    }
   ],
   "source": [
    "ANNOTATIONS = '/mnt/data2/datasets/detr/detr_doors_3class_panoptic (T:D, V:Z)/annotations/panoptic_train2017.json'\n",
    "IMAGES = '/mnt/data2/datasets/detr/detr_doors_3class_panoptic (T:D, V:Z)/panoptic_train2017'\n",
    "\n",
    "\n",
    "df = pd.read_json(ANNOTATIONS, typ='series')\n",
    "df.head()"
   ]
  },
  {
   "cell_type": "code",
   "execution_count": 39,
   "metadata": {
    "scrolled": true
   },
   "outputs": [
    {
     "data": {
      "text/plain": [
       "{'segments_info': [{'id': 92,\n",
       "   'category_id': 1,\n",
       "   'iscrowd': 0,\n",
       "   'area': 169613,\n",
       "   'bbox': [39.0, 190.0, 474.0, 623.0]},\n",
       "  {'id': 65,\n",
       "   'category_id': 0,\n",
       "   'iscrowd': 0,\n",
       "   'area': 26803,\n",
       "   'bbox': [382.0, 85.0, 162.0, 419.0]},\n",
       "  {'id': 235,\n",
       "   'category_id': 2,\n",
       "   'iscrowd': 0,\n",
       "   'area': 513789,\n",
       "   'bbox': [0.0, 0.0, 730.0, 973.0]}],\n",
       " 'file_name': '079.jpg',\n",
       " 'image_id': 70}"
      ]
     },
     "execution_count": 39,
     "metadata": {},
     "output_type": "execute_result"
    }
   ],
   "source": [
    "df['annotations'][69]"
   ]
  },
  {
   "cell_type": "code",
   "execution_count": 41,
   "metadata": {},
   "outputs": [
    {
     "name": "stdout",
     "output_type": "stream",
     "text": [
      "{'id': 70, 'file_name': '079.jpg', 'width': 730, 'height': 973, 'date_captured': '2020-09-16 07:55:54.168839', 'license': 1, 'coco_url': '', 'flickr_url': ''}\n"
     ]
    }
   ],
   "source": [
    "for x in df['images']:\n",
    "    if x['id'] == 70:\n",
    "        print(x)"
   ]
  },
  {
   "cell_type": "code",
   "execution_count": null,
   "metadata": {},
   "outputs": [],
   "source": [
    "for x in df['annotations']:\n",
    "    for y in x['segments_info']:\n",
    "        "
   ]
  },
  {
   "cell_type": "code",
   "execution_count": 50,
   "metadata": {},
   "outputs": [
    {
     "data": {
      "text/plain": [
       "info           {'description': 'Door_object_panoptic_segmenta...\n",
       "licenses       [{'id': 1, 'name': 'Fake License', 'url': 'htt...\n",
       "categories     [{'id': 0, 'name': 'front_door', 'supercategor...\n",
       "images         [{'id': 1, 'file_name': '145.jpg', 'width': 12...\n",
       "annotations    [{'segments_info': [{'id': 572, 'category_id':...\n",
       "dtype: object"
      ]
     },
     "execution_count": 50,
     "metadata": {},
     "output_type": "execute_result"
    }
   ],
   "source": [
    "ANNOTATIONS = '/mnt/data2/datasets/detr/detr_doors_panoptic (T:DZ2, V:Z)/annotations/panoptic_train2017.json'\n",
    "IMAGES = '/mnt/data2/datasets/detr/detr_doors_panoptic (T:DZ2, V:Z)/panoptic_train2017/'\n",
    "\n",
    "\n",
    "od = pd.read_json(ANNOTATIONS, typ='series')\n",
    "od.head()"
   ]
  },
  {
   "cell_type": "code",
   "execution_count": 53,
   "metadata": {},
   "outputs": [
    {
     "data": {
      "text/plain": [
       "{'segments_info': [{'id': 455,\n",
       "   'category_id': 2,\n",
       "   'iscrowd': 0,\n",
       "   'area': 1169904,\n",
       "   'bbox': [0.0, 0.0, 1800.0, 1350.0]},\n",
       "  {'id': 593,\n",
       "   'category_id': 0,\n",
       "   'iscrowd': 0,\n",
       "   'area': 109501,\n",
       "   'bbox': [960.0, 396.0, 306.0, 954.0]},\n",
       "  {'id': 478,\n",
       "   'category_id': 1,\n",
       "   'iscrowd': 0,\n",
       "   'area': 1149232,\n",
       "   'bbox': [0.0, 106.0, 1088.0, 1244.0]}],\n",
       " 'file_name': '063.png',\n",
       " 'image_id': 176}"
      ]
     },
     "execution_count": 53,
     "metadata": {},
     "output_type": "execute_result"
    }
   ],
   "source": [
    "od['annotations'][175]"
   ]
  },
  {
   "cell_type": "code",
   "execution_count": 22,
   "metadata": {},
   "outputs": [
    {
     "data": {
      "text/plain": [
       "640"
      ]
     },
     "execution_count": 22,
     "metadata": {},
     "output_type": "execute_result"
    }
   ],
   "source": [
    "575+65"
   ]
  },
  {
   "cell_type": "code",
   "execution_count": 27,
   "metadata": {},
   "outputs": [
    {
     "data": {
      "text/plain": [
       "info           {'description': 'COCO 2017 Dataset', 'url': 'h...\n",
       "licenses       [{'url': 'http://creativecommons.org/licenses/...\n",
       "images         [{'license': 4, 'file_name': '000000397133.jpg...\n",
       "annotations    [{'segmentation': [[510.66, 423.01, 511.72, 42...\n",
       "categories     [{'supercategory': 'person', 'id': 1, 'name': ...\n",
       "dtype: object"
      ]
     },
     "execution_count": 27,
     "metadata": {},
     "output_type": "execute_result"
    }
   ],
   "source": [
    "COCO_OD_ANNOTATIONS = '/mnt/data2/datasets/coco/annotations/instances_val2017.json'\n",
    "COCO_OD_IMAGES = '/mnt/data2/datasets/coco_panoptic/val2017'\n",
    "\n",
    "\n",
    "coco_od = pd.read_json(COCO_OD_ANNOTATIONS, typ='series')\n",
    "coco_od.head()"
   ]
  },
  {
   "cell_type": "code",
   "execution_count": 30,
   "metadata": {},
   "outputs": [
    {
     "data": {
      "text/plain": [
       "{'segmentation': [[343.52,\n",
       "   186.15,\n",
       "   336.8,\n",
       "   180.4,\n",
       "   332.96,\n",
       "   164.08,\n",
       "   328.17,\n",
       "   155.45,\n",
       "   332.0,\n",
       "   142.97,\n",
       "   332.0,\n",
       "   133.38,\n",
       "   336.8,\n",
       "   110.35,\n",
       "   341.6,\n",
       "   97.87,\n",
       "   348.32,\n",
       "   82.52,\n",
       "   349.28,\n",
       "   71.01,\n",
       "   348.32,\n",
       "   68.13,\n",
       "   341.6,\n",
       "   60.45,\n",
       "   350.24,\n",
       "   47.02,\n",
       "   356.95,\n",
       "   42.22,\n",
       "   370.39,\n",
       "   37.42,\n",
       "   379.98,\n",
       "   23.03,\n",
       "   383.82,\n",
       "   13.43,\n",
       "   387.66,\n",
       "   6.72,\n",
       "   404.93,\n",
       "   11.51,\n",
       "   410.69,\n",
       "   8.64,\n",
       "   426.04,\n",
       "   0.96,\n",
       "   435.64,\n",
       "   6.72,\n",
       "   441.39,\n",
       "   21.11,\n",
       "   451.95,\n",
       "   23.99,\n",
       "   469.22,\n",
       "   14.39,\n",
       "   482.65,\n",
       "   21.11,\n",
       "   487.45,\n",
       "   7.68,\n",
       "   492.25,\n",
       "   3.84,\n",
       "   502.8,\n",
       "   15.35,\n",
       "   508.56,\n",
       "   18.23,\n",
       "   519.12,\n",
       "   18.23,\n",
       "   538.31,\n",
       "   18.23,\n",
       "   566.13,\n",
       "   22.07,\n",
       "   553.66,\n",
       "   42.22,\n",
       "   539.27,\n",
       "   63.33,\n",
       "   524.87,\n",
       "   71.97,\n",
       "   511.44,\n",
       "   65.25,\n",
       "   505.68,\n",
       "   57.57,\n",
       "   499.93,\n",
       "   48.94,\n",
       "   489.37,\n",
       "   52.78,\n",
       "   486.49,\n",
       "   67.17,\n",
       "   471.14,\n",
       "   76.76,\n",
       "   460.58,\n",
       "   85.4,\n",
       "   458.67,\n",
       "   96.91,\n",
       "   443.31,\n",
       "   105.55,\n",
       "   434.68,\n",
       "   97.87,\n",
       "   429.88,\n",
       "   85.4,\n",
       "   429.88,\n",
       "   75.8,\n",
       "   419.32,\n",
       "   52.78,\n",
       "   412.61,\n",
       "   51.82,\n",
       "   400.13,\n",
       "   34.54,\n",
       "   378.06,\n",
       "   45.1,\n",
       "   389.58,\n",
       "   62.37,\n",
       "   396.29,\n",
       "   64.29,\n",
       "   398.21,\n",
       "   71.97,\n",
       "   409.73,\n",
       "   79.64,\n",
       "   403.97,\n",
       "   91.16,\n",
       "   393.42,\n",
       "   84.44,\n",
       "   380.94,\n",
       "   71.97,\n",
       "   366.55,\n",
       "   53.73,\n",
       "   360.79,\n",
       "   62.37,\n",
       "   355.99,\n",
       "   92.12,\n",
       "   355.03,\n",
       "   108.43,\n",
       "   366.55,\n",
       "   121.86,\n",
       "   377.1,\n",
       "   147.77,\n",
       "   372.31,\n",
       "   161.2,\n",
       "   368.47,\n",
       "   166.96,\n",
       "   369.43,\n",
       "   174.64,\n",
       "   367.51,\n",
       "   186.15,\n",
       "   363.67,\n",
       "   187.11]],\n",
       " 'area': 13725.7423,\n",
       " 'iscrowd': 0,\n",
       " 'image_id': 136355,\n",
       " 'bbox': [328.17, 0.96, 237.96, 186.15],\n",
       " 'category_id': 64,\n",
       " 'id': 26324}"
      ]
     },
     "execution_count": 30,
     "metadata": {},
     "output_type": "execute_result"
    }
   ],
   "source": [
    "coco_od['annotations'][42]"
   ]
  },
  {
   "cell_type": "code",
   "execution_count": null,
   "metadata": {},
   "outputs": [],
   "source": []
  }
 ],
 "metadata": {
  "kernelspec": {
   "display_name": "Python 3",
   "language": "python",
   "name": "python3"
  },
  "language_info": {
   "codemirror_mode": {
    "name": "ipython",
    "version": 3
   },
   "file_extension": ".py",
   "mimetype": "text/x-python",
   "name": "python",
   "nbconvert_exporter": "python",
   "pygments_lexer": "ipython3",
   "version": "3.8.3"
  }
 },
 "nbformat": 4,
 "nbformat_minor": 4
}
